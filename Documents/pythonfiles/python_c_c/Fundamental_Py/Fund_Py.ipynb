{
 "cells": [
  {
   "cell_type": "code",
   "execution_count": 1,
   "metadata": {},
   "outputs": [
    {
     "name": "stdout",
     "output_type": "stream",
     "text": [
      "9\n"
     ]
    }
   ],
   "source": [
    "# Creating New Functions #\n",
    "def square(n):\n",
    "    \"\"\"Returns the square of n.\"\"\"\n",
    "    result = n**2\n",
    "    return result\n",
    "print(square(3))\n",
    "# A function's parameters and temp variables (like 'result') exist\n",
    "# only during the lifetime of a function call, and are not visible\n",
    "# to the surrounding program."
   ]
  },
  {
   "cell_type": "code",
   "execution_count": 2,
   "metadata": {},
   "outputs": [
    {
     "ename": "NameError",
     "evalue": "name 'first' is not defined",
     "output_type": "error",
     "traceback": [
      "\u001b[0;31m---------------------------------------------------------------------------\u001b[0m",
      "\u001b[0;31mNameError\u001b[0m                                 Traceback (most recent call last)",
      "\u001b[0;32m<ipython-input-2-80fff3971ea6>\u001b[0m in \u001b[0;36m<module>\u001b[0;34m()\u001b[0m\n\u001b[0;32m----> 1\u001b[0;31m \u001b[0mfirst\u001b[0m\u001b[0;34m(\u001b[0m\u001b[0;34m)\u001b[0m           \u001b[0;31m# Raises a NameError(function not defined yet)\u001b[0m\u001b[0;34m\u001b[0m\u001b[0;34m\u001b[0m\u001b[0m\n\u001b[0m\u001b[1;32m      2\u001b[0m \u001b[0;32mdef\u001b[0m \u001b[0mfirst\u001b[0m\u001b[0;34m(\u001b[0m\u001b[0;34m)\u001b[0m\u001b[0;34m:\u001b[0m\u001b[0;34m\u001b[0m\u001b[0;34m\u001b[0m\u001b[0m\n\u001b[1;32m      3\u001b[0m     \u001b[0msecond\u001b[0m\u001b[0;34m(\u001b[0m\u001b[0;34m)\u001b[0m         \u001b[0;31m# Not an error, because not actually called until after 'second' is defined.\u001b[0m\u001b[0;34m\u001b[0m\u001b[0;34m\u001b[0m\u001b[0m\n\u001b[1;32m      4\u001b[0m     \u001b[0mprint\u001b[0m\u001b[0;34m(\u001b[0m\u001b[0;34m\"Calling first.\"\u001b[0m\u001b[0;34m)\u001b[0m\u001b[0;34m\u001b[0m\u001b[0;34m\u001b[0m\u001b[0m\n\u001b[1;32m      5\u001b[0m \u001b[0;34m\u001b[0m\u001b[0m\n",
      "\u001b[0;31mNameError\u001b[0m: name 'first' is not defined"
     ]
    }
   ],
   "source": [
    "first()           # Raises a NameError(function not defined yet)\n",
    "def first():\n",
    "    second()         # Not an error, because not actually called until after 'second' is defined.\n",
    "    print(\"Calling first.\")\n",
    "\n",
    "def second():\n",
    "    print(\"Calling second.\")\n",
    "first()         # Here is where the call should go."
   ]
  },
  {
   "cell_type": "code",
   "execution_count": 3,
   "metadata": {},
   "outputs": [
    {
     "name": "stdout",
     "output_type": "stream",
     "text": [
      "2\n",
      "3\n",
      "4\n",
      "5\n",
      "2\n",
      "3\n",
      "4\n",
      "5\n"
     ]
    }
   ],
   "source": [
    "# Recursive Functions\n",
    "def displayRange(lower, upper):\n",
    "    \"\"\"Outputs the numbers from lower to upper.\"\"\"\n",
    "    if lower <= upper:\n",
    "        print(lower)\n",
    "        displayRange(lower + 1, upper)\n",
    "displayRange(2, 5)\n",
    "\n",
    "def displayRange(lower, upper):\n",
    "    \"\"\"Outputs the numbers from lower to upper.\"\"\"\n",
    "    while lower <= upper:\n",
    "        print(lower)\n",
    "        lower = lower + 1\n",
    "displayRange(2, 5)"
   ]
  },
  {
   "cell_type": "code",
   "execution_count": 4,
   "metadata": {},
   "outputs": [
    {
     "name": "stdout",
     "output_type": "stream",
     "text": [
      "11\n"
     ]
    }
   ],
   "source": [
    "def ourSum(lower, upper):\n",
    "    \"\"\"Returns the sum of the numbers from lower thru upper.\"\"\"\n",
    "    if lower > upper:\n",
    "        return 0\n",
    "    else:\n",
    "        return lower + ourSum(lower + 1, upper)\n",
    "print(ourSum(5, 6))"
   ]
  },
  {
   "cell_type": "code",
   "execution_count": 5,
   "metadata": {},
   "outputs": [
    {
     "name": "stdout",
     "output_type": "stream",
     "text": [
      " 1 4\n",
      "     2 4\n",
      "         3 4\n",
      "             4 4\n",
      "                 5 4\n",
      "                 0\n",
      "             4\n",
      "         7\n",
      "     9\n",
      " 10\n"
     ]
    },
    {
     "data": {
      "text/plain": [
       "10"
      ]
     },
     "execution_count": 5,
     "metadata": {},
     "output_type": "execute_result"
    }
   ],
   "source": [
    "def ourSum(lower, upper, margin = 0):\n",
    "    \"\"\"Returns the sum of the numbers from lower to upper.\n",
    "    and ouputs a trace of the arguments and return values\n",
    "    on each call.\"\"\"\n",
    "    blanks = \" \"*margin\n",
    "    print(blanks,  lower, upper)\n",
    "    if lower > upper:\n",
    "        print(blanks, 0)\n",
    "        return 0\n",
    "    else:\n",
    "        result = lower + ourSum(lower + 1, upper, margin + 4)\n",
    "        print(blanks, result)\n",
    "        return result\n",
    "ourSum(1, 4)\n",
    "# The displayed pairs of arguments are indented further \n",
    "# to the right as the calls of the function proceed."
   ]
  },
  {
   "cell_type": "code",
   "execution_count": 6,
   "metadata": {},
   "outputs": [
    {
     "data": {
      "text/plain": [
       "3628800"
      ]
     },
     "execution_count": 6,
     "metadata": {},
     "output_type": "execute_result"
    }
   ],
   "source": [
    "# Nested Function Definitions #\n",
    "# First definition\n",
    "def factorial(n):\n",
    "    \"\"\"Returns the factorial of n.\"\"\"\n",
    "    def recurse(n, product):\n",
    "        if n == 1: return product\n",
    "        else: return recurse(n-1, n*product)\n",
    "    recurse(n, 1)\n",
    "\n",
    "# Second definition\n",
    "def factorial(n, product = 1):\n",
    "    \"\"\"Returns the factorial of n.\"\"\"\n",
    "    if n == 1: return product\n",
    "    else: return factorial(n-1, n*product)\n",
    "\n",
    "factorial(10)"
   ]
  },
  {
   "cell_type": "code",
   "execution_count": 7,
   "metadata": {},
   "outputs": [],
   "source": [
    "oldList = [1, 2, 32 , 0, 0, 0, 5, 9, 0, 12, 7, 0, 8, 0, 10]\n",
    "#newList = []\n",
    "#for number in oldList: newList.append(str(number))\n",
    "#print(newList)"
   ]
  },
  {
   "cell_type": "code",
   "execution_count": 8,
   "metadata": {},
   "outputs": [
    {
     "name": "stdout",
     "output_type": "stream",
     "text": [
      "['1', '2', '32', '0', '0', '0', '5', '9', '0', '12', '7', '0', '8', '0', '10']\n"
     ]
    }
   ],
   "source": [
    "map(str, oldList)\n",
    "newList = list(map(str, oldList))\n",
    "print(newList)"
   ]
  },
  {
   "cell_type": "code",
   "execution_count": 9,
   "metadata": {},
   "outputs": [
    {
     "name": "stdout",
     "output_type": "stream",
     "text": [
      "[1, 2, 32, 5, 9, 12, 7, 8, 10]\n"
     ]
    }
   ],
   "source": [
    "# Creating Anonymous Functions with Lambda #\n",
    "newList = list(filter(lambda number: number > 0, oldList))\n",
    "print(newList)"
   ]
  },
  {
   "cell_type": "code",
   "execution_count": 10,
   "metadata": {},
   "outputs": [
    {
     "name": "stdout",
     "output_type": "stream",
     "text": [
      "3628800\n"
     ]
    }
   ],
   "source": [
    "import functools\n",
    "product = functools.reduce(lambda x, y: x * y, range(1, 11))\n",
    "print(product)\n",
    "# This lambda expression is a simple expression of the factorial for loop."
   ]
  },
  {
   "cell_type": "code",
   "execution_count": 11,
   "metadata": {},
   "outputs": [
    {
     "name": "stdout",
     "output_type": "stream",
     "text": [
      "Enter your age: \n",
      "Error in number format:  \n",
      "Enter your age: \n",
      "Error in number format:  \n",
      "Enter your age: \n",
      "Error in number format:  \n",
      "Enter your age: \n",
      "Error in number format:  \n",
      "Enter your age: 2\n",
      "Your age is 2\n"
     ]
    }
   ],
   "source": [
    "\"\"\"The following function demonstrates trapping of number \n",
    "format errors during input using a 'try-except' statement.\"\"\"\n",
    "\n",
    "def safeIntegerInput(prompt):\n",
    "    \"\"\"Prompts the user for an integer and returns the\n",
    "    integer if it is well-formed. Otherwise, prints an\n",
    "    error message and repeats this process.\"\"\"\n",
    "    inputString = input(prompt)\n",
    "    try:\n",
    "        number = int(inputString)\n",
    "        return number\n",
    "    except ValueError:\n",
    "        print(\"Error in number format: \", inputString)\n",
    "        return safeIntegerInput(prompt)\n",
    "    \n",
    "if __name__==\"__main__\":\n",
    "    age = safeIntegerInput(\"Enter your age: \")\n",
    "    print(\"Your age is\", age)"
   ]
  },
  {
   "cell_type": "code",
   "execution_count": 12,
   "metadata": {},
   "outputs": [],
   "source": [
    "# Files and Other Operations #\n",
    "# Text file output\n",
    "# the following code will create a .txt file with the name 'myfile_FP'.\n",
    "# If one already exists with that name then it will open that file.\n",
    "f = open(\"myfile_FP.txt\", 'w')"
   ]
  },
  {
   "cell_type": "code",
   "execution_count": 13,
   "metadata": {},
   "outputs": [],
   "source": [
    "# String data ae written to a file using the 'write' method with the file object.\n",
    "f.write(\"First line.\\nSecond line.\\n\")   # Once outputs are finished, the file should be closed.\n",
    "f.close()   # Failure to close can result in data loss."
   ]
  },
  {
   "cell_type": "code",
   "execution_count": 14,
   "metadata": {},
   "outputs": [],
   "source": [
    "# Writing numbers to Text file\n",
    "# Create new file to write to.\n",
    "import random\n",
    "f = open(\"integers.txt\", 'w')\n",
    "for count in range(500):\n",
    "    number = random.randint(1, 500)\n",
    "    f.write(str(number) + \"\\n\")\n",
    "f.close()"
   ]
  },
  {
   "cell_type": "code",
   "execution_count": 15,
   "metadata": {},
   "outputs": [],
   "source": [
    "# Reading text from a Text file\n",
    "f = open(\"myfile_FP.txt\", 'r')"
   ]
  },
  {
   "cell_type": "code",
   "execution_count": 16,
   "metadata": {},
   "outputs": [
    {
     "data": {
      "text/plain": [
       "'First line.\\nSecond line.\\n'"
      ]
     },
     "execution_count": 16,
     "metadata": {},
     "output_type": "execute_result"
    }
   ],
   "source": [
    "text = f.read()\n",
    "text"
   ]
  },
  {
   "cell_type": "code",
   "execution_count": 17,
   "metadata": {},
   "outputs": [
    {
     "name": "stdout",
     "output_type": "stream",
     "text": [
      "First line.\n",
      "Second line.\n",
      "\n"
     ]
    }
   ],
   "source": [
    "print(text)"
   ]
  },
  {
   "cell_type": "code",
   "execution_count": 18,
   "metadata": {},
   "outputs": [
    {
     "name": "stdout",
     "output_type": "stream",
     "text": [
      "First line.\n",
      "\n",
      "Second line.\n",
      "\n"
     ]
    }
   ],
   "source": [
    "f = open(\"myfile_FP.txt\", 'r')\n",
    "for line in f:\n",
    "    print(line)"
   ]
  },
  {
   "cell_type": "code",
   "execution_count": 19,
   "metadata": {},
   "outputs": [
    {
     "name": "stdout",
     "output_type": "stream",
     "text": [
      "First line.\n",
      "\n",
      "Second line.\n",
      "\n"
     ]
    }
   ],
   "source": [
    "f = open(\"myfile_FP.txt\", 'r')\n",
    "while True:\n",
    "    line = f.readline()\n",
    "    if line == \"\":\n",
    "        break\n",
    "    print(line)"
   ]
  },
  {
   "cell_type": "code",
   "execution_count": 20,
   "metadata": {},
   "outputs": [
    {
     "name": "stdout",
     "output_type": "stream",
     "text": [
      "The sum is 127684\n"
     ]
    }
   ],
   "source": [
    "# Reading numbers from a file\n",
    "f = open(\"integers.txt\", 'r')\n",
    "sum = 0\n",
    "for line in f:\n",
    "    line = line.strip()\n",
    "    number = int(line)\n",
    "    sum += number\n",
    "print(\"The sum is\", sum)"
   ]
  },
  {
   "cell_type": "code",
   "execution_count": 21,
   "metadata": {},
   "outputs": [
    {
     "name": "stdout",
     "output_type": "stream",
     "text": [
      "The Sum is 127684\n"
     ]
    }
   ],
   "source": [
    "# The following code would be used to obtain numbers from a text file that\n",
    "# are seperated by spaces instead of 'new lines' using the 'split()' method.\n",
    "f = open(\"integers.txt\", 'r')\n",
    "sum = 0\n",
    "for line in f:\n",
    "    wordlist = line.split()\n",
    "    for word in wordlist:\n",
    "        number = int(word)\n",
    "        sum += number\n",
    "print(\"The Sum is\", sum)"
   ]
  },
  {
   "cell_type": "code",
   "execution_count": 22,
   "metadata": {},
   "outputs": [],
   "source": [
    "# Reading and Writing Objects with 'Pickle'\n",
    "# this is useful for mapping objects, i.e. saving and loading them.\n",
    "import pickle\n",
    "\n",
    "lyst = [60, \"A string object\", 1977]      # create object.\n",
    "fileObj = open(\"items.dat\", \"wb\")         # create dat file to load object on.\n",
    "for item in lyst:\n",
    "    pickle.dump(item, fileObj)            # 'dump' each item(object)  from the object.\n",
    "fileObj.close()                           # close file to save data."
   ]
  },
  {
   "cell_type": "code",
   "execution_count": 23,
   "metadata": {},
   "outputs": [
    {
     "name": "stdout",
     "output_type": "stream",
     "text": [
      "[60, 'A string object', 1977]\n"
     ]
    }
   ],
   "source": [
    "# In some cases we may reach the end of file(EOF), which will\n",
    "# raise an exception. But we have no way of knowing where that is\n",
    "# sometims. In this casewe can use try-except statements to help\n",
    "# keep the program running.\n",
    "\n",
    "lyst = list()                         # create new list to write to\n",
    "fileObj = open(\"items.dat\", 'rb')     # open dat file to read from\n",
    "while True:                           # while loop to use try-except statement\n",
    "    try:\n",
    "        item = pickle.load(fileObj)   # each 'item' will be loaded from 'fileObj' which is the dat file objects\n",
    "        lyst.append(item)             # append each 'item' from the dat file to our new list --> lyst\n",
    "    except EOFError:                  \n",
    "        fileObj.close()               # if and when we raise an EOFError, we close the dat file\n",
    "        break                         # stop running while loop\n",
    "print(lyst)"
   ]
  },
  {
   "cell_type": "code",
   "execution_count": 24,
   "metadata": {},
   "outputs": [],
   "source": [
    "# CREATING NEW CLASSES #\n",
    "\n",
    "# A class describes the data and the methods pertaining to\n",
    "# a set of objects. It provides a \"blueprint\" for creating\n",
    "# objects and the code to execute when methods are called on them.\n",
    "\n",
    "# Syntax for Python classes\n",
    "# def <class name>(<parent class name>):\n",
    "#     <class variable assignments>\n",
    "#     <instance method definitions>\n",
    "\n",
    "class Counter(object):\n",
    "    \"\"\"Models a counter.\"\"\"\n",
    "    \n",
    "    # Class variable\n",
    "    instances = 0\n",
    "    \n",
    "    # Constructor\n",
    "    def __init__(self):\n",
    "        \"\"\"Sets up the counter.\"\"\"\n",
    "        Counter.instances += 1\n",
    "        self.reset()\n",
    "        \n",
    "    # Mutator methods\n",
    "    def reset(self):\n",
    "        \"\"\"Sets the counter to 0.\"\"\"\n",
    "        self._value = 0\n",
    "        \n",
    "    def increment(self, amount = 1):\n",
    "        \"\"\"Adds amount to the counter.\"\"\"\n",
    "        self._value += amount\n",
    "        \n",
    "    def decrement(self, amount = 1):\n",
    "        \"\"\"Subtracts amount from the counter.\"\"\"\n",
    "        self._value -= amount\n",
    "        \n",
    "    # Accessor methods\n",
    "    def getValue(self):\n",
    "        \"\"\"Returns the counter's value.\"\"\"\n",
    "        return self._value\n",
    "    \n",
    "    def __str__(self):\n",
    "        \"\"\"Returns the string representation of the counter.\"\"\"\n",
    "        return str(self._value)\n",
    "    \n",
    "    def __eq__(self, other):\n",
    "        \"\"\"Returns True if self equals other\n",
    "        or False otherwise.\"\"\"\n",
    "        if self is other: return True\n",
    "        if type(self) != type(other): return False\n",
    "        return self._value == other._value"
   ]
  },
  {
   "cell_type": "code",
   "execution_count": 25,
   "metadata": {},
   "outputs": [
    {
     "name": "stdout",
     "output_type": "stream",
     "text": [
      "What's the radius of your sphere in Centimeters?: 1\n",
      "These are the following characteristics of your sphere: \n",
      "Volume:  4.1887902047863905 cm\n",
      "Surface Area:  12.566370614359172 cm\n",
      "Diameter:  2.0 cm\n",
      "Circumference:  6.283185307179586 cm\n"
     ]
    }
   ],
   "source": [
    "# Project: Write a program that takes the radius of a sphere as an input\n",
    "# and outputs the sphere's diameter, volume, surface area, and circumference.\n",
    "import math\n",
    "from math import *\n",
    "\n",
    "def sphere():\n",
    "    r = float(input(\"What's the radius of your sphere in Centimeters?: \"))\n",
    "    Vol = 4/3 * pi * r\n",
    "    SA = 4 * pi * (r**2)\n",
    "    d = 2 * r\n",
    "    Circ = pi * d\n",
    "    \n",
    "    print(\"These are the following characteristics of your sphere: \")\n",
    "    print(\"Volume: \", Vol, \"cm\" )\n",
    "    print(\"Surface Area: \", SA, \"cm\")\n",
    "    print(\"Diameter: \", d, \"cm\")\n",
    "    print(\"Circumference: \", Circ, \"cm\")\n",
    "sphere()"
   ]
  },
  {
   "cell_type": "code",
   "execution_count": 26,
   "metadata": {},
   "outputs": [
    {
     "data": {
      "text/plain": [
       "['H', 'i', ' ', 't', 'h', 'e', 'r', 'e', '!']"
      ]
     },
     "execution_count": 26,
     "metadata": {},
     "output_type": "execute_result"
    }
   ],
   "source": [
    "# COLLECTIONS #\n",
    "# Collections include: Binary Search Trees, Queues, Priority Queues, heaps...\n",
    "# One can convert one type of collection \n",
    "# to another type in a manner similar to converting int --> float.\n",
    "message = \"Hi there!\"\n",
    "lyst = list(message)\n",
    "lyst"
   ]
  },
  {
   "cell_type": "code",
   "execution_count": 27,
   "metadata": {},
   "outputs": [
    {
     "data": {
      "text/plain": [
       "('H', 'i', ' ', 't', 'h', 'e', 'r', 'e', '!')"
      ]
     },
     "execution_count": 27,
     "metadata": {},
     "output_type": "execute_result"
    }
   ],
   "source": [
    "toople = tuple(lyst)\n",
    "toople\n",
    "# We have taken a string object, turned it into \n",
    "# a list and then turned that list into a tuple,\n",
    "# turning a mutable object into an immutable object!"
   ]
  },
  {
   "cell_type": "code",
   "execution_count": 28,
   "metadata": {},
   "outputs": [
    {
     "data": {
      "text/plain": [
       "[1, 3, 5, 7, 9]"
      ]
     },
     "execution_count": 28,
     "metadata": {},
     "output_type": "execute_result"
    }
   ],
   "source": [
    "lyst = list(range(1, 11, 2))\n",
    "lyst"
   ]
  },
  {
   "cell_type": "code",
   "execution_count": 29,
   "metadata": {},
   "outputs": [
    {
     "data": {
      "text/plain": [
       "False"
      ]
     },
     "execution_count": 29,
     "metadata": {},
     "output_type": "execute_result"
    }
   ],
   "source": [
    "lyst1 = [2, 4, 8]\n",
    "lyst2 = list(lyst1)\n",
    "lyst1 is lyst2\n",
    "# We get a False value because the two lists\n",
    "# are not the same object"
   ]
  },
  {
   "cell_type": "code",
   "execution_count": 30,
   "metadata": {},
   "outputs": [
    {
     "data": {
      "text/plain": [
       "True"
      ]
     },
     "execution_count": 30,
     "metadata": {},
     "output_type": "execute_result"
    }
   ],
   "source": [
    "# But when using the == operator we are comparing\n",
    "# two objects that are the same type and have the \n",
    "# same structure! The 'is' operator checks to see if\n",
    "# the pointer is on the same object.\n",
    "lyst1 == lyst2"
   ]
  },
  {
   "cell_type": "code",
   "execution_count": 31,
   "metadata": {},
   "outputs": [
    {
     "name": "stdout",
     "output_type": "stream",
     "text": [
      " ProblemSize         Seconds\n",
      "        1000           0.000\n",
      "        2000           0.000\n",
      "        4000           0.001\n",
      "        8000           0.001\n",
      "       16000           0.002\n"
     ]
    }
   ],
   "source": [
    "# SEARCHING, SORTING, AND COMPLEXITY ANALYSIS #\n",
    "# Measuring run-time of an algorithm by \n",
    "# using the machine's clock: 'Benchmarking'\n",
    "\"\"\"\n",
    "File: timing1.py\n",
    "Prints the running times for problem sizes that double,\n",
    "using a single loop.\n",
    "\"\"\"\n",
    "\n",
    "import time\n",
    "\n",
    "problemSize = 1000\n",
    "print(\"%12s%16s\"%(\"ProblemSize\", \"Seconds\"))\n",
    "for count in range(5):\n",
    "    \n",
    "    start = time.time()\n",
    "    # The start of the algorithm\n",
    "    work = 1\n",
    "    for x in range(problemSize):\n",
    "        work += 1\n",
    "        work -= 1\n",
    "    # The end of the algorithm\n",
    "    elapsed = time.time() - start\n",
    "    \n",
    "    print(\"%12d%16.3f\"%(problemSize, elapsed))\n",
    "    problemSize *= 2"
   ]
  },
  {
   "cell_type": "code",
   "execution_count": 32,
   "metadata": {},
   "outputs": [
    {
     "name": "stdout",
     "output_type": "stream",
     "text": [
      " ProblemSize     Iterations\n",
      "         100          10000\n",
      "         200          40000\n",
      "         400         160000\n",
      "         800         640000\n",
      "        1600        2560000\n"
     ]
    }
   ],
   "source": [
    "# Counting Instructions\n",
    "# Another technique to estimate eficiency.\n",
    "\"\"\"\n",
    "File: counting.py\n",
    "Prints the number of iterations for problem sizes\n",
    "that double, using a nested loop.\n",
    "\"\"\"\n",
    "problemSize = 100\n",
    "print(\"%12s%15s\"%(\"ProblemSize\", \"Iterations\"))\n",
    "for count in range(5):\n",
    "    number = 0\n",
    "    \n",
    "    # The start of the algorithm\n",
    "    work = 1\n",
    "    for j in range(problemSize):\n",
    "        for k in range(problemSize):\n",
    "            number += 1\n",
    "            work += 1\n",
    "            work -= 1\n",
    "    # The end of the algorithm\n",
    "    \n",
    "    print(\"%12d%15d\"%(problemSize, number))\n",
    "    problemSize *= 2"
   ]
  },
  {
   "cell_type": "code",
   "execution_count": 33,
   "metadata": {},
   "outputs": [
    {
     "name": "stdout",
     "output_type": "stream",
     "text": [
      " ProblemSize          Calls\n",
      "           2              1\n",
      "           4              5\n",
      "           8             41\n",
      "          16           1973\n",
      "          32        4356617\n"
     ]
    }
   ],
   "source": [
    "# recursive Fibonacci function for several problem sizes\n",
    "\n",
    "\"\"\"\n",
    "File: countfib.py\n",
    "Prints the number of calls of a recursive Fibonacci\n",
    "function with problem sizes that double.\n",
    "\"\"\"\n",
    "\n",
    "from counter import Counter\n",
    "def fib(n, counter):\n",
    "    \"\"\"Count the number of calls of the Fibonacci\n",
    "    function.\"\"\"\n",
    "    counter.increment()\n",
    "    if n < 3:\n",
    "        return 1\n",
    "    else:\n",
    "        return fib(n-1, counter) + fib(n-2, counter)\n",
    "    \n",
    "problemSize = 2\n",
    "print(\"%12s%15s\"%(\"ProblemSize\", \"Calls\"))\n",
    "for count in range(5):\n",
    "    counter = Counter()\n",
    "    \n",
    "    # The start of the algorithm\n",
    "    fib(problemSize, counter)\n",
    "    # The end of the algorithm\n",
    "    print(\"%12d%15s\"%(problemSize, counter))\n",
    "    problemSize *= 2"
   ]
  },
  {
   "cell_type": "code",
   "execution_count": 34,
   "metadata": {},
   "outputs": [],
   "source": [
    "# Binary Search function\n",
    "sortedLyst = [1, 2, 3, 4, 5, 6, 7, 8, 9, 10, 11, 12, 13, 14, 15, 16, 17, 18, 19, 20]\n",
    "def binarySearch(target, sortedLyst):\n",
    "    left = 0\n",
    "    right = len(sortedLyst) - 1\n",
    "    while left <= right:\n",
    "        midpoint = (left + right) // 2\n",
    "        if target == sortedLyst[midpoint]:\n",
    "            return midpoint\n",
    "        elif target < sortedLyst[midpoint]:\n",
    "            right = midpoint -1\n",
    "        else:\n",
    "            left = midpoint + 1\n",
    "    return -1"
   ]
  },
  {
   "cell_type": "code",
   "execution_count": 35,
   "metadata": {},
   "outputs": [
    {
     "data": {
      "text/plain": [
       "True"
      ]
     },
     "execution_count": 35,
     "metadata": {},
     "output_type": "execute_result"
    }
   ],
   "source": [
    "\"\"\"\n",
    "Implementing the __lt__(self, other) method, which returns \n",
    "True if self is less than other, or False otherwise. \n",
    "\"\"\"\n",
    "\n",
    "class SavingsAccount(object):\n",
    "    \"\"\"This class represents a savings account\n",
    "    with the owner's name, PIN, and balance.\"\"\"\n",
    "    \n",
    "    def __init__(self, name, pin, balance = 0.0):\n",
    "        self._name = name\n",
    "        self._pin = pin\n",
    "        self._balance = balance\n",
    "        \n",
    "    def __lt__(self, other):\n",
    "        return self._name < other._name\n",
    "    # Other methods, including __eq__\n",
    "    \n",
    "s1 = SavingsAccount(\"Ken\", \"1000\", 0)\n",
    "s2 = SavingsAccount(\"Bill\", \"1001\", 30)\n",
    "s2 < s1"
   ]
  },
  {
   "cell_type": "code",
   "execution_count": 36,
   "metadata": {},
   "outputs": [
    {
     "name": "stdout",
     "output_type": "stream",
     "text": [
      "[1, 3, 5, 7, 9]\n"
     ]
    }
   ],
   "source": [
    "# Swapping function\n",
    "def swap(lyst, i, j):\n",
    "    \"\"\"Exchanges the items at positions i and j.\"\"\"\n",
    "    # You could say lyst[i], lyst[j] = lyst[j], lyst[i]\n",
    "    # but the following code shows what is really going on\n",
    "    print(lyst)\n",
    "    lyst[i], lyst[j] = lyst[j], lyst[i]\n",
    "# Python function for Selection Sort\n",
    "def selectionSort(lyst):\n",
    "    i = 0\n",
    "    while i < len(lyst) - 1:         # Do n-1 searches\n",
    "        minIndex = i                 # for the smallest\n",
    "        j = i + 1\n",
    "        while j < len(lyst):         # Start a search\n",
    "            if lyst[j] < lyst[minIndex]:\n",
    "                minIndex = j\n",
    "            j += 1\n",
    "        if minIndex != i:            # Exchange if needed\n",
    "            swap(lyst, minIndex, i)\n",
    "        i += 1\n",
    "swap(lyst, 0, 1)"
   ]
  },
  {
   "cell_type": "code",
   "execution_count": 37,
   "metadata": {},
   "outputs": [],
   "source": [
    "# Bubble Sort function\n",
    "def bubbleSort(lyst):\n",
    "    lyst = unsortedLyst\n",
    "    n = len(lyst)\n",
    "    while n > 1:                      # Do n-1 bubbles\n",
    "        swapped = False\n",
    "        i = 1                          # Start each bubble\n",
    "        while i < n:\n",
    "            if lyst[i] < lyst[i -1]:  # Exchange if needed\n",
    "                swap(lyst, i, i - 1)\n",
    "                swapped = True\n",
    "            i += 1\n",
    "        if not swapped: return\n",
    "        n -= 1\n"
   ]
  },
  {
   "cell_type": "code",
   "execution_count": 38,
   "metadata": {},
   "outputs": [],
   "source": [
    "# Code for Insertion Sort Algprithm\n",
    "def insertionSort(lyst):\n",
    "    i = 1\n",
    "    while i < len(lyst):\n",
    "        itemToInsert = lyst[i]\n",
    "        j = i -1\n",
    "        while j >= 0:\n",
    "            if itemToInsert < lyst[j]:\n",
    "                lyst[j + 1] = lyst[j]\n",
    "                j -= 1\n",
    "            else:\n",
    "                break\n",
    "        lyst[j + 1] = itemToInsert\n",
    "        i += 1"
   ]
  },
  {
   "cell_type": "code",
   "execution_count": 39,
   "metadata": {},
   "outputs": [
    {
     "name": "stdout",
     "output_type": "stream",
     "text": [
      "[11, 1, 6, 3, 10, 9, 6, 6, 2, 1]\n",
      "[11, 1, 6, 3, 1, 9, 6, 6, 2, 10]\n",
      "[1, 11, 6, 3, 1, 9, 6, 6, 2, 10]\n",
      "[1, 6, 11, 3, 1, 9, 6, 6, 2, 10]\n",
      "[1, 6, 3, 11, 1, 9, 6, 6, 2, 10]\n",
      "[1, 6, 3, 1, 11, 9, 6, 6, 2, 10]\n",
      "[1, 6, 3, 1, 9, 11, 6, 6, 2, 10]\n",
      "[1, 6, 3, 1, 9, 6, 11, 6, 2, 10]\n",
      "[1, 6, 3, 1, 9, 6, 6, 11, 2, 10]\n",
      "[1, 6, 3, 1, 9, 6, 6, 2, 11, 10]\n",
      "[1, 6, 3, 2, 9, 6, 6, 1, 10, 11]\n",
      "[1, 6, 3, 2, 1, 6, 6, 9, 10, 11]\n",
      "[1, 6, 3, 2, 1, 6, 6, 9, 10, 11]\n",
      "[1, 6, 3, 2, 1, 6, 6, 9, 10, 11]\n",
      "[1, 6, 3, 2, 1, 6, 6, 9, 10, 11]\n",
      "[1, 6, 3, 2, 1, 6, 6, 9, 10, 11]\n",
      "[1, 6, 3, 2, 1, 6, 6, 9, 10, 11]\n",
      "[1, 6, 3, 2, 1, 6, 6, 9, 10, 11]\n",
      "[1, 6, 3, 6, 1, 6, 2, 9, 10, 11]\n",
      "[1, 1, 3, 6, 6, 6, 2, 9, 10, 11]\n",
      "[1, 1, 2, 6, 3, 6, 6, 9, 10, 11]\n",
      "[1, 1, 2, 3, 6, 6, 6, 9, 10, 11]\n",
      "[1, 1, 2, 3, 6, 6, 6, 9, 10, 11]\n",
      "[1, 1, 2, 3, 6, 6, 6, 9, 10, 11]\n"
     ]
    }
   ],
   "source": [
    "# Implementation of Quick-Sort Algorithm\n",
    "def quickSort(lyst):\n",
    "    quicksortHelper(lyst, 0, len(lyst) - 1)\n",
    "    \n",
    "def quicksortHelper(lyst, left, right):\n",
    "    if left < right:\n",
    "        pivotLocation = partition(lyst, left, right)\n",
    "        quicksortHelper(lyst, left, pivotLocation -1)\n",
    "        quicksortHelper(lyst, pivotLocation + 1, right)\n",
    "        \n",
    "def partition(lyst, left, right):\n",
    "    # Find the pivot and exchange it with the last item\n",
    "    middle = (left + right) // 2\n",
    "    pivot = lyst[middle]\n",
    "    lyst[middle] = lyst[right]\n",
    "    lyst[right] = pivot\n",
    "    # Set boundary point to first position\n",
    "    boundary = left\n",
    "    # Move items less than pivot the left\n",
    "    for index in range(left, right):\n",
    "        if lyst[index] < pivot:\n",
    "            swap(lyst, index, boundary)\n",
    "            boundary += 1\n",
    "    # Exchange the pivot item and the boundary item\n",
    "    swap(lyst, right, boundary)\n",
    "    return boundary\n",
    "\n",
    "# Earlier definition of the swap function goes here\n",
    "\n",
    "import random\n",
    "\n",
    "def main(size = 10, sort = quickSort):\n",
    "    lyst = []\n",
    "    for count in range(size):\n",
    "        lyst.append(random.randint(1, size + 1))\n",
    "    print(lyst)\n",
    "    sort(lyst)\n",
    "    print(lyst)\n",
    "    \n",
    "if __name__ == \"__main__\":\n",
    "    main()"
   ]
  },
  {
   "cell_type": "code",
   "execution_count": 40,
   "metadata": {},
   "outputs": [],
   "source": [
    "# Code implementation of Merge-Sort\n",
    "from arrays import Array\n",
    "def mergeSort(lyst):\n",
    "    # lyst        list being sorted\n",
    "    # copyBuffer  temporary space needed during merge\n",
    "    copyBuffer = Array(len(lyst))\n",
    "    mergesortHelper(lyst, copyBuffer, 0, len(lyst) - 1)    # Computes midpoint of the sublist, recursively sorts below and above the midpoint.\n",
    "    \n",
    "def mergesortHelper(lyst, copyBuffer, low, high):\n",
    "    # lyst        list being sorted\n",
    "    # copyBuffer  temporary space needed during merge\n",
    "    # low, high   bounds of sublist\n",
    "    # middle      midpoint of sublist\n",
    "    if low < high:\n",
    "        middle = (low + high) // 2\n",
    "        mergesortHelper(lyst, copyBuffer, low, middle)\n",
    "        mergesortHelper(lyst, copyBuffer, middle + 1, high)\n",
    "        merge(lyst, copyBuffer, low, middle, high)\n",
    "# Code for the merge function\n",
    "def merge(lyst, copyBuffer, low, middle, high):\n",
    "    # lyst        list being sorted\n",
    "    # copyBuffer  temporary space needed during merge\n",
    "    # low         beginning of the first sorted sublist\n",
    "    # middle      end of first sorted sublist\n",
    "    # middle + 1  beginning of second sorted sublist\n",
    "    # high        end of second sorted sublist\n",
    "    \n",
    "    # Inititalize i1 and i2 to the first items in each sublist\n",
    "    i1 = low\n",
    "    i2 = middle + 1\n",
    "    \n",
    "    # Interleave items from the sublists into the\n",
    "    # copyBuffer in such a way that oreder is maintained.\n",
    "    for i in range(low, high + 1):\n",
    "        if i1 > middle:\n",
    "            copyBuffer[i] = lyst[i2] # First sublist exhausted\n",
    "            i2 += 1\n",
    "        elif i2 > high:\n",
    "            copyBuffer[i] = lyst[i] # Second sublist exhausted\n",
    "            i1 += 1\n",
    "        elif lyst[i1] < lyst[i2]:\n",
    "            copyBuffer[i] = lyst[i1] # Item in first sublist <\n",
    "            i1 += 1\n",
    "        else:\n",
    "            copyBuffer[i] = lyst[i2] # Item in second sublist <\n",
    "            i2 += 1\n",
    "            \n",
    "    for i in range(los, high + 1):   # Copy sorted items back to\n",
    "        lyst[i] = copyBuffer[i]      # proper position in lyst\n",
    "        "
   ]
  },
  {
   "cell_type": "code",
   "execution_count": 41,
   "metadata": {},
   "outputs": [],
   "source": [
    "# ARRAYS AND LINKED STRUCTURES #\n",
    "# The Array Data Structure\n",
    "        # The data structure underlying a Python 'list' is an array.\n",
    "        # Arrays are much more restrictive than lists.\n",
    "        # One cannot add or remove positions, or make the length of an array larger or smaller.\n",
    "        \n",
    "\"\"\"\n",
    "File: arrays.py\n",
    "\n",
    "An Array is like a list, but the client can use\n",
    "only [], len, iter, and str.\n",
    "\n",
    "To instantiate, use\n",
    "\n",
    "<varible> = Array(<capacity>, <optional fill value>)\n",
    "\n",
    "The fill value is None by default.\n",
    "\"\"\"\n",
    "\n",
    "class Array(object):\n",
    "    \"\"\"Represnets an Array\"\"\"\n",
    "    def __init__(self, capacity, fillValue=None):\n",
    "        \"\"\" Capacity is the static size of the array. \n",
    "        fillValue is placed at each position.\"\"\"\n",
    "        self._items = list()\n",
    "        for count in range(capacity):\n",
    "            self._items.append(fillValue)\n",
    "\n",
    "    def __len__(self):\n",
    "        \"\"\"-> The capacity of the array.\"\"\"\n",
    "        return len(self._items)\n",
    "\n",
    "    def __str__(self):\n",
    "        \"\"\"-> The string representation of the array.\"\"\"\n",
    "        return str(self._items)\n",
    "\n",
    "    def __iter__(self):\n",
    "        \"\"\"Supports traversal with for loop.\"\"\"\n",
    "        return iter(self._items)\n",
    "\n",
    "    def __getitem__(self, index):\n",
    "        \"\"\"Subscript operator for access at index.\"\"\"\n",
    "        return self._items[index]\n",
    "\n",
    "    def __setitem__(self, index, newItem):\n",
    "        \"\"\"Subcript operator for replacement at index.\"\"\"\n",
    "        self._items[index] = newItem"
   ]
  },
  {
   "cell_type": "code",
   "execution_count": 42,
   "metadata": {},
   "outputs": [
    {
     "name": "stdout",
     "output_type": "stream",
     "text": [
      "5 \n",
      "\n",
      "[None, None, None, None, None] \n",
      "\n",
      "1 \n",
      "\n",
      "1\n",
      "2\n",
      "3\n",
      "4\n",
      "5\n"
     ]
    }
   ],
   "source": [
    "from arrays import Array\n",
    "a = Array(5)\n",
    "print(len(a), \"\\n\")\n",
    "print(a, \"\\n\")\n",
    "for i in range(len(a)):\n",
    "    a[i] = i + 1\n",
    "print(a[0], \"\\n\")\n",
    "for item in a:\n",
    "    print(item)"
   ]
  },
  {
   "cell_type": "code",
   "execution_count": 43,
   "metadata": {},
   "outputs": [
    {
     "name": "stdout",
     "output_type": "stream",
     "text": [
      "0 0 0 0 0 0 0 0 0 0 \n",
      "0 0 0 0 0 0 0 0 0 0 \n",
      "0 0 0 0 0 0 0 0 0 0 \n",
      "0 0 0 0 0 0 0 0 0 0 \n",
      "0 0 0 0 0 0 0 0 0 0 \n",
      "0 0 0 0 0 0 0 0 0 0 \n",
      "0 0 0 0 0 0 0 0 0 0 \n",
      "0 0 0 0 0 0 0 0 0 0 \n",
      "0 0 0 0 0 0 0 0 0 0 \n",
      "0 0 0 0 0 0 0 0 0 0 \n",
      "\n"
     ]
    }
   ],
   "source": [
    "from grid import Grid\n",
    "table = Grid(10, 10, 0)\n",
    "print(table)"
   ]
  },
  {
   "cell_type": "code",
   "execution_count": 44,
   "metadata": {},
   "outputs": [
    {
     "name": "stdout",
     "output_type": "stream",
     "text": [
      "0 0 0 \n",
      "0 1 2 \n",
      "0 2 4 \n",
      "\n"
     ]
    }
   ],
   "source": [
    "matrix = Grid(3, 3)\n",
    "for row in range(matrix.getHeight()):\n",
    "    for column in range(matrix.getWidth()):\n",
    "        matrix[row][column] = row * column\n",
    "print(matrix)"
   ]
  },
  {
   "cell_type": "code",
   "execution_count": 45,
   "metadata": {},
   "outputs": [
    {
     "name": "stdout",
     "output_type": "stream",
     "text": [
      "5\n",
      "4\n",
      "3\n",
      "2\n",
      "1\n",
      "[44, 61, 67, 67, 68]\n",
      "68\n",
      "67\n",
      "67\n",
      "61\n",
      "44\n"
     ]
    }
   ],
   "source": [
    "# Linked Structures # \n",
    "# testing Node class by creating a singly linked\n",
    "# structure and pringting the contents.\n",
    "\n",
    "\"\"\"\n",
    "About this program: \n",
    "-One pointer, 'head', creates the linked structure. This pointer is manipulted\n",
    "so that the most recently inserted item is always at the beginning of the \n",
    "structure.\n",
    "-Therefore, when the data are displeyed, they appear in the reverse order of their\n",
    "insertion. That is, this is a LIFO structure.\n",
    "-When the data are displeyed, the head pointer is reset to the next node, until the\n",
    "head pointer becomes 'None'. Thus, at the end of this process, the nodes are effectively\n",
    "deleted from the linked structure.\n",
    "\"\"\"\n",
    "\n",
    "\"\"\"\n",
    "File: testnode.py\n",
    "Tests the Node class.\n",
    "\"\"\"\n",
    "import random\n",
    "\n",
    "from node import Node\n",
    "\n",
    "head = None\n",
    "\n",
    "# Add five nodes to the beginning o the linked structure\n",
    "for count in range(1, 6):\n",
    "    head = Node(count, head)\n",
    "    \n",
    "# Print the contents of the structure\n",
    "while head != None:\n",
    "    print(head.data)\n",
    "    head = head.next\n",
    "\n",
    "# Create a random array.\n",
    "some_array = []\n",
    "for i in range(5):\n",
    "    new_array = some_array.append(random.randint(1, 101))\n",
    "    new_array = some_array.sort()\n",
    "\n",
    "print(some_array)\n",
    "\n",
    "# Now, take items and transfer to linked list.\n",
    "for count in some_array:\n",
    "    head = Node(count, head)\n",
    "    \n",
    "while head != None:\n",
    "    print(head.data)\n",
    "    head = head.next"
   ]
  },
  {
   "cell_type": "code",
   "execution_count": 46,
   "metadata": {},
   "outputs": [
    {
     "name": "stdout",
     "output_type": "stream",
     "text": [
      "[0, 1, 2, 3, 4, 5, 6, 7, 8, 9] \n",
      "\n",
      "True \n",
      "\n",
      "20 \n",
      "\n",
      "0\n",
      "1\n",
      "2\n",
      "3\n",
      "4\n",
      "5\n",
      "6\n",
      "7\n",
      "8\n",
      "9\n",
      "0\n",
      "1\n",
      "2\n",
      "3\n",
      "4\n",
      "5\n",
      "6\n",
      "7\n",
      "8\n",
      "9\n",
      "\n",
      " True\n"
     ]
    }
   ],
   "source": [
    "b = []\n",
    "b.clear()               # Make the bag empty\n",
    "for item in range(10):  # Add 10 numbers to it\n",
    "    b.append(item)\n",
    "print(b, \"\\n\")                # Print the contents (a string)\n",
    "print(4 in b, \"\\n\")           # Is 4 in the bag?\n",
    "c = b + b               # Contents doubled in a new bag\n",
    "print(len(c), \"\\n\")           # 20 numbers\n",
    "for item in c:          # Print them all individually\n",
    "    print(item)\n",
    "for item in range(10):  # Remove half of them\n",
    "    c.remove(item)\n",
    "print(\"\\n\", c == b)           # Should be the same contents now"
   ]
  },
  {
   "cell_type": "code",
   "execution_count": 47,
   "metadata": {},
   "outputs": [
    {
     "name": "stdout",
     "output_type": "stream",
     "text": [
      "The list of items added is: [2013, 61, 1973]\n"
     ]
    },
    {
     "ename": "AttributeError",
     "evalue": "'ArrayBag' object has no attribute 'add'",
     "output_type": "error",
     "traceback": [
      "\u001b[0;31m---------------------------------------------------------------------------\u001b[0m",
      "\u001b[0;31mAttributeError\u001b[0m                            Traceback (most recent call last)",
      "\u001b[0;32m<ipython-input-47-607b35a2acbc>\u001b[0m in \u001b[0;36m<module>\u001b[0;34m()\u001b[0m\n\u001b[1;32m     36\u001b[0m     \u001b[0mb2\u001b[0m\u001b[0;34m.\u001b[0m\u001b[0mremove\u001b[0m\u001b[0;34m(\u001b[0m\u001b[0;36m99\u001b[0m\u001b[0;34m)\u001b[0m\u001b[0;34m\u001b[0m\u001b[0;34m\u001b[0m\u001b[0m\n\u001b[1;32m     37\u001b[0m \u001b[0;34m\u001b[0m\u001b[0m\n\u001b[0;32m---> 38\u001b[0;31m \u001b[0mtest\u001b[0m\u001b[0;34m(\u001b[0m\u001b[0mArrayBag\u001b[0m\u001b[0;34m)\u001b[0m\u001b[0;34m\u001b[0m\u001b[0;34m\u001b[0m\u001b[0m\n\u001b[0m\u001b[1;32m     39\u001b[0m \u001b[0;31m# test(LinkedBag)\u001b[0m\u001b[0;34m\u001b[0m\u001b[0;34m\u001b[0m\u001b[0;34m\u001b[0m\u001b[0m\n",
      "\u001b[0;32m<ipython-input-47-607b35a2acbc>\u001b[0m in \u001b[0;36mtest\u001b[0;34m(bagType)\u001b[0m\n\u001b[1;32m     12\u001b[0m     \u001b[0mlyst\u001b[0m \u001b[0;34m=\u001b[0m \u001b[0;34m[\u001b[0m\u001b[0;36m2013\u001b[0m\u001b[0;34m,\u001b[0m \u001b[0;36m61\u001b[0m\u001b[0;34m,\u001b[0m \u001b[0;36m1973\u001b[0m\u001b[0;34m]\u001b[0m\u001b[0;34m\u001b[0m\u001b[0;34m\u001b[0m\u001b[0m\n\u001b[1;32m     13\u001b[0m     \u001b[0mprint\u001b[0m\u001b[0;34m(\u001b[0m\u001b[0;34m\"The list of items added is:\"\u001b[0m\u001b[0;34m,\u001b[0m \u001b[0mlyst\u001b[0m\u001b[0;34m)\u001b[0m\u001b[0;34m\u001b[0m\u001b[0;34m\u001b[0m\u001b[0m\n\u001b[0;32m---> 14\u001b[0;31m     \u001b[0mb1\u001b[0m \u001b[0;34m=\u001b[0m \u001b[0mbagType\u001b[0m\u001b[0;34m(\u001b[0m\u001b[0mlyst\u001b[0m\u001b[0;34m)\u001b[0m\u001b[0;34m\u001b[0m\u001b[0;34m\u001b[0m\u001b[0m\n\u001b[0m\u001b[1;32m     15\u001b[0m     \u001b[0mprint\u001b[0m\u001b[0;34m(\u001b[0m\u001b[0;34m\"Expect 3:\"\u001b[0m\u001b[0;34m,\u001b[0m \u001b[0mlen\u001b[0m\u001b[0;34m(\u001b[0m\u001b[0mb1\u001b[0m\u001b[0;34m)\u001b[0m\u001b[0;34m)\u001b[0m\u001b[0;34m\u001b[0m\u001b[0;34m\u001b[0m\u001b[0m\n\u001b[1;32m     16\u001b[0m     \u001b[0mprint\u001b[0m\u001b[0;34m(\u001b[0m\u001b[0;34m\"Expect the bag's string:\"\u001b[0m\u001b[0;34m,\u001b[0m \u001b[0mb1\u001b[0m\u001b[0;34m)\u001b[0m\u001b[0;34m\u001b[0m\u001b[0;34m\u001b[0m\u001b[0m\n",
      "\u001b[0;32m~/Documents/pythonfiles/python_c_c/Fundamental_Py/arraybag.py\u001b[0m in \u001b[0;36m__init__\u001b[0;34m(self, sourceCollection)\u001b[0m\n\u001b[1;32m     16\u001b[0m \t\tcontents of sourceCollection, if it's present.\"\"\"\n\u001b[1;32m     17\u001b[0m                 \u001b[0mself\u001b[0m\u001b[0;34m.\u001b[0m\u001b[0mitems\u001b[0m \u001b[0;34m=\u001b[0m \u001b[0mArray\u001b[0m\u001b[0;34m(\u001b[0m\u001b[0mArrayBag\u001b[0m\u001b[0;34m.\u001b[0m\u001b[0mDEFAULT_CAPACITY\u001b[0m\u001b[0;34m)\u001b[0m\u001b[0;34m\u001b[0m\u001b[0;34m\u001b[0m\u001b[0m\n\u001b[0;32m---> 18\u001b[0;31m                 \u001b[0mAbstractBag\u001b[0m\u001b[0;34m.\u001b[0m\u001b[0m__init__\u001b[0m\u001b[0;34m(\u001b[0m\u001b[0mself\u001b[0m\u001b[0;34m,\u001b[0m \u001b[0msourceCollection\u001b[0m\u001b[0;34m)\u001b[0m\u001b[0;34m\u001b[0m\u001b[0;34m\u001b[0m\u001b[0m\n\u001b[0m\u001b[1;32m     19\u001b[0m \u001b[0;34m\u001b[0m\u001b[0m\n\u001b[1;32m     20\u001b[0m         \u001b[0;31m# Mutator methods\u001b[0m\u001b[0;34m\u001b[0m\u001b[0;34m\u001b[0m\u001b[0;34m\u001b[0m\u001b[0m\n",
      "\u001b[0;32m~/Documents/pythonfiles/python_c_c/Fundamental_Py/abstractbag.py\u001b[0m in \u001b[0;36m__init__\u001b[0;34m(self, sourceCollection)\u001b[0m\n\u001b[1;32m     14\u001b[0m                 \u001b[0;32mif\u001b[0m \u001b[0msourceCollection\u001b[0m\u001b[0;34m:\u001b[0m\u001b[0;34m\u001b[0m\u001b[0;34m\u001b[0m\u001b[0m\n\u001b[1;32m     15\u001b[0m                         \u001b[0;32mfor\u001b[0m \u001b[0mitem\u001b[0m \u001b[0;32min\u001b[0m \u001b[0msourceCollection\u001b[0m\u001b[0;34m:\u001b[0m\u001b[0;34m\u001b[0m\u001b[0;34m\u001b[0m\u001b[0m\n\u001b[0;32m---> 16\u001b[0;31m                                 \u001b[0mself\u001b[0m\u001b[0;34m.\u001b[0m\u001b[0madd\u001b[0m\u001b[0;34m(\u001b[0m\u001b[0mitem\u001b[0m\u001b[0;34m)\u001b[0m\u001b[0;34m\u001b[0m\u001b[0;34m\u001b[0m\u001b[0m\n\u001b[0m",
      "\u001b[0;31mAttributeError\u001b[0m: 'ArrayBag' object has no attribute 'add'"
     ]
    }
   ],
   "source": [
    "\"\"\"\n",
    "File: testbag.py\n",
    "Author: Ken Lambert\n",
    "\"\"\"\n",
    "from abstractbag import AbstractBag\n",
    "from arraybag import ArrayBag\n",
    "from link_dbag import LinkedBag\n",
    "\n",
    "def test(bagType):\n",
    "    \"\"\"Expects a bag type as an argument and runs some tests\n",
    "    on objects of that type.\"\"\"\n",
    "    lyst = [2013, 61, 1973]\n",
    "    print(\"The list of items added is:\", lyst)\n",
    "    b1 = bagType(lyst)\n",
    "    print(\"Expect 3:\", len(b1))\n",
    "    print(\"Expect the bag's string:\", b1)\n",
    "    print(\"Expect True:\", 2013 in b1)\n",
    "    print(\"Expect False:\", 2012 in b1)\n",
    "    print(\"Expect the items on seperate lines:\")\n",
    "    for item in b1:\n",
    "        print(item)\n",
    "    b1.clear()\n",
    "    print(\"Expect {}:\", b1)\n",
    "    b1.add(25)\n",
    "    b1.remove(25)\n",
    "    print(\"Expect{}:\", b1)\n",
    "    b1 = bagType(lyst)\n",
    "    b2 = bagType(b1)\n",
    "    print(\"Expect True:\", b1 == b2)\n",
    "    print(\"Expect Fasle:\", b1 is b2)\n",
    "    print(\"Expect two of each item:\", b1 + b2)\n",
    "    for item in lyst:\n",
    "        b1.remove(item)\n",
    "    print(\"Expect {}:\", b1)\n",
    "    print(\"Expect crash with KeyError:\")\n",
    "    b2.remove(99)\n",
    "\n",
    "test(ArrayBag)\n",
    "# test(LinkedBag)"
   ]
  },
  {
   "cell_type": "code",
   "execution_count": 48,
   "metadata": {},
   "outputs": [
    {
     "name": "stdout",
     "output_type": "stream",
     "text": [
      "[1]\n",
      "[1, 2]\n",
      "[1, 2, 3]\n",
      "[1, 2, 3, 4]\n",
      "[1, 2, 3, 4, 5]\n",
      "[1, 2, 3, 4]\n",
      "[1, 2, 3]\n",
      "[1, 2]\n",
      "[1]\n"
     ]
    }
   ],
   "source": [
    "# A list behaves like a stack when using the .pop() and .append() method.\n",
    "# That is, it has LIFO type behavior. But one can indicate where one wants to\n",
    "# .pop() or .apppend() an element by simply indicating the index, it's a bit\n",
    "# trickier with strings. You need to redefine a string variable.\n",
    "lyst = []\n",
    "lyst.append(1)\n",
    "print(lyst)\n",
    "lyst.append(2)\n",
    "print(lyst)\n",
    "lyst.append(3)\n",
    "print(lyst)\n",
    "lyst.append(4)\n",
    "print(lyst)\n",
    "lyst.append(5)\n",
    "print(lyst)\n",
    "lyst.pop()\n",
    "print(lyst)\n",
    "lyst.pop()\n",
    "print(lyst)\n",
    "lyst.pop()\n",
    "print(lyst)\n",
    "lyst.pop()\n",
    "print(lyst)"
   ]
  },
  {
   "cell_type": "code",
   "execution_count": null,
   "metadata": {},
   "outputs": [],
   "source": []
  }
 ],
 "metadata": {
  "kernelspec": {
   "display_name": "Python 3",
   "language": "python",
   "name": "python3"
  },
  "language_info": {
   "codemirror_mode": {
    "name": "ipython",
    "version": 3
   },
   "file_extension": ".py",
   "mimetype": "text/x-python",
   "name": "python",
   "nbconvert_exporter": "python",
   "pygments_lexer": "ipython3",
   "version": "3.7.2"
  }
 },
 "nbformat": 4,
 "nbformat_minor": 2
}
